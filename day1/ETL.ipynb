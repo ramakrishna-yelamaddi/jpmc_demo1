{
 "cells": [
  {
   "cell_type": "code",
   "execution_count": 0,
   "metadata": {
    "application/vnd.databricks.v1+cell": {
     "cellMetadata": {
      "byteLimit": 2048000,
      "rowLimit": 10000
     },
     "inputWidgets": {},
     "nuid": "794553a0-a342-4ef2-95ca-aeefcaa628da",
     "showTitle": false,
     "tableResultSettingsMap": {},
     "title": ""
    }
   },
   "outputs": [],
   "source": [
    "from pyspark.sql.functions import *\n",
    "input_path= \"/Volumes/dev/naval/raw/house-price.json\"\n",
    "df=spark.read.json(input_path)\n",
    "df1=df.withColumnRenamed(\"price\",\"house_price\").withColumn(\"ingestiondate\",current_timestamp())\n",
    "df1.write.mode(\"overwrite\").saveAsTable(\"dev.rama.houseprice\")\n",
    "\n",
    "\n",
    "\n"
   ]
  },
  {
   "cell_type": "code",
   "execution_count": 0,
   "metadata": {
    "application/vnd.databricks.v1+cell": {
     "cellMetadata": {
      "byteLimit": 2048000,
      "rowLimit": 10000
     },
     "inputWidgets": {},
     "nuid": "f979da5f-f55f-4656-baea-3993d8b9bbd9",
     "showTitle": false,
     "tableResultSettingsMap": {},
     "title": ""
    }
   },
   "outputs": [],
   "source": [
    "parquet_input_path=\"/Volumes/dev/naval/raw/parquet/titanic.parquet\"\n",
    "df2=spark.read.parquet(parquet_input_path)\n",
    "df3=df2.withColumnRenamed(\"PassengerId\",\"passenger_id\").withColumn(\"ingestiondate\",current_timestamp())\n",
    "df3.write.mode(\"overwrite\").option(\"overwriteSchema\",\"true\").saveAsTable(\"dev.rama.titanic\")"
   ]
  },
  {
   "cell_type": "code",
   "execution_count": 0,
   "metadata": {
    "application/vnd.databricks.v1+cell": {
     "cellMetadata": {
      "byteLimit": 2048000,
      "implicitDf": true,
      "rowLimit": 10000
     },
     "inputWidgets": {},
     "nuid": "c741d2a7-6f7f-4c58-b349-3456f6e8f61d",
     "showTitle": false,
     "tableResultSettingsMap": {},
     "title": ""
    }
   },
   "outputs": [],
   "source": [
    "%sql\n",
    "select * from dev.rama.titanic"
   ]
  }
 ],
 "metadata": {
  "application/vnd.databricks.v1+notebook": {
   "computePreferences": null,
   "dashboards": [],
   "environmentMetadata": {
    "base_environment": "",
    "environment_version": "2"
   },
   "inputWidgetPreferences": null,
   "language": "python",
   "notebookMetadata": {
    "mostRecentlyExecutedCommandWithImplicitDF": {
     "commandId": 5459993401665071,
     "dataframes": [
      "_sqldf"
     ]
    },
    "pythonIndentUnit": 4
   },
   "notebookName": "ETL",
   "widgets": {}
  },
  "language_info": {
   "name": "python"
  }
 },
 "nbformat": 4,
 "nbformat_minor": 0
}
